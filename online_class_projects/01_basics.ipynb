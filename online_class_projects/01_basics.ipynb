
{
  "nbformat": 4,
  "nbformat_minor": 0,
  "metadata": {
    "colab": {
      "provenance": []
    },
    "kernelspec": {
      "name": "python3",
      "display_name": "Python 3"
    },
    "language_info": {
      "name": "python"
    }
  },
  "cells": [
    {
      "cell_type": "code",
      "execution_count": null,
      "metadata": {
        "colab": {
          "base_uri": "https://localhost:8080/"
        },
        "id": "1xM6Hdm5GU8l",
        "outputId": "ca0e068b-c108-4ade-86ca-82b25a4918ea"
      },
      "outputs": [
        {
          "output_type": "stream",
          "name": "stdout",
          "text": [
            "00_joke_bot\n",
            "What do you want?a joke\n",
            "Wife: Honey, do you remember what today is?  \n",
            "Husband: Of course! How could I forget? 😅  \n",
            "(Later that day, he buys flowers, chocolates, and a gift...)  \n",
            "Wife: Aww, that’s so sweet! But... it’s not our anniversary or my birthday.  \n",
            "Husband: ...Then what is it? 😨  \n",
            "Wife: It’s **Friday.** 🤣\n"
          ]
        }
      ],
      "source": [
        "print(\"00_joke_bot\")\n",
        "\n",
        "PROMPT: str = \"What do you want?\"\n",
        "\n",
        "JOKE: str = \"\"\"Wife: Honey, do you remember what today is?\n",
        "Husband: Of course! How could I forget? 😅\n",
        "(Later that day, he buys flowers, chocolates, and a gift...)\n",
        "Wife: Aww, that’s so sweet! But... it’s not our anniversary or my birthday.\n",
        "Husband: ...Then what is it? 😨\n",
        "Wife: It’s **Friday.** 🤣\"\"\"\n",
        "SORRY:str = \"Sorry, I can only tell jokes! Try asking for a joke. \"\n",
        "def main():\n",
        "    user_input: str = input(PROMPT)\n",
        "    user_input = user_input.strip().lower()\n",
        "\n",
        "    if \"joke\" in user_input:\n",
        "        print(JOKE)\n",
        "    else:\n",
        "        print(SORRY)\n",
        "\n",
        "if __name__ == \"__main__\":\n",
        "    main()\n"
      ]
    },
    {
      "cell_type": "code",
      "source": [
        "print(\"01_double_it\")\n",
        "import time  # Sleep function ke liye\n",
        "\n",
        "def main():\n",
        "    curr_value = int(input(\"Enter a number: \"))  # User se number lena\n",
        "\n",
        "    while curr_value < 100:  # Jab tak value 100 se choti hai, loop chalay ga\n",
        "        curr_value = curr_value * 2  # Double karna\n",
        "        print(curr_value, end=\" \")  # Output print karna\n",
        "        time.sleep(1)  # 1 second delay\n",
        "\n",
        "if __name__ == '__main__':\n",
        "    main()"
      ],
      "metadata": {
        "colab": {
          "base_uri": "https://localhost:8080/"
        },
        "id": "NmryOm0pQEtV",
        "outputId": "5d5c956c-7317-4813-8e38-a2b466bbac09"
      },
      "execution_count": null,
      "outputs": [
        {
          "output_type": "stream",
          "name": "stdout",
          "text": [
            "01_double_it\n",
            "Enter a number: 6\n",
            "12 24 48 96 192 "
          ]
        }
      ]
    },
    {
      "cell_type": "code",
      "source": [
        "print(\"02_liftoff\")\n",
        "import time  # Import time module for delay\n",
        "\n",
        "def main():\n",
        "    countdown = 10\n",
        "    while countdown > 0:\n",
        "        print(countdown)\n",
        "        time.sleep(1)  # 1-second delay\n",
        "        countdown -= 1\n",
        "\n",
        "    print(\"Liftoff!\")\n",
        "\n",
        "if __name__ == '__main__':\n",
        "    main()"
      ],
      "metadata": {
        "colab": {
          "base_uri": "https://localhost:8080/"
        },
        "id": "mBwFZS1FRrHu",
        "outputId": "8303d49f-3aea-498c-bace-433c56d2572b"
      },
      "execution_count": null,
      "outputs": [
        {
          "output_type": "stream",
          "name": "stdout",
          "text": [
            "02_liftoff\n",
            "10\n",
            "9\n",
            "8\n",
            "7\n",
            "6\n",
            "5\n",
            "4\n",
            "3\n",
            "2\n",
            "1\n",
            "Liftoff!\n"
          ]
        }
      ]
    },
    {
      "cell_type": "code",
      "source": [
        "print(\"03_guess_my_number\")\n",
        "import random\n",
        "\n",
        "def main():\n",
        "    # Generate the secret number at random!\n",
        "    secret_number = random.randint(1, 99)\n",
        "\n",
        "    print(\"I am thinking of a number between 1 and 99...\")\n",
        "\n",
        "    # Get user's guess\n",
        "    guess = int(input(\"Enter a guess: \"))\n",
        "    # True if guess is not equal to secret number\n",
        "    while guess != secret_number:\n",
        "        if guess < secret_number:  # If-statement is True if guess is less than secret number\n",
        "            print(\"Your guess is too low\")\n",
        "        else:\n",
        "            print(\"Your guess is too high\")\n",
        "\n",
        "        print() # Print an empty line to tidy up the console for new guesses\n",
        "        guess = int(input(\"Enter a new guess: \"))  # Get a new guess from the user\n",
        "\n",
        "    print(\"Congrats! The number was: \" + str(secret_number))\n",
        "\n",
        "if __name__ == '__main__':\n",
        "    main()"
      ],
      "metadata": {
        "colab": {
          "base_uri": "https://localhost:8080/"
        },
        "id": "PCNOTkIgSPkJ",
        "outputId": "2498f058-113c-415c-ccfd-c91fa4290f05"
      },
      "execution_count": null,
      "outputs": [
        {
          "output_type": "stream",
          "name": "stdout",
          "text": [
            "03_guess_my_number\n",
            "I am thinking of a number between 1 and 99...\n",
            "Enter a guess: 50\n",
            "Your guess is too low\n",
            "\n",
            "Enter a new guess: 70\n",
            "Your guess is too high\n",
            "\n",
            "Enter a new guess: 60\n",
            "Your guess is too high\n",
            "\n",
            "Enter a new guess: 55\n",
            "Your guess is too high\n",
            "\n",
            "Enter a new guess: 52\n",
            "Your guess is too low\n",
            "\n",
            "Enter a new guess: 53\n",
            "Congrats! The number was: 53\n"
          ]
        }
      ]
    },
    {
      "cell_type": "code",
      "source": [
        "print(\"04_random_number\")\n",
        "import random\n",
        "print(\"\\n🎊 Generate Random Number between 1 to 100 🎊\\n\")\n",
        "\n",
        "def main():\n",
        "  for _ in range(10):\n",
        "    value = random.randint(1,100)\n",
        "    print(value,end=\" \")\n",
        "\n",
        "    print()\n",
        "if __name__==\"__main__\":\n",
        "  main()\n"
      ],
      "metadata": {
        "colab": {
          "base_uri": "https://localhost:8080/"
        },
        "id": "ZK115Fp-SfdJ",
        "outputId": "2bf230f6-9730-4a03-afb4-095c9602ed50"
      },
      "execution_count": null,
      "outputs": [
        {
          "output_type": "stream",
          "name": "stdout",
          "text": [
            "04_random_number\n",
            "\n",
            "🎊 Generate Random Number between 1 to 100 🎊\n",
            "\n",
            "71 \n",
            "77 \n",
            "95 \n",
            "29 \n",
            "6 \n",
            "44 \n",
            "34 \n",
            "96 \n",
            "30 \n",
            "63 \n"
          ]
        }
      ]
    }
  ]
}

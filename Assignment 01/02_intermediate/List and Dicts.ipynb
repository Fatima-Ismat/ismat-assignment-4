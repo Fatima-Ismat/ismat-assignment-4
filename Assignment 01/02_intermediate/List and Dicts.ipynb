{
  "nbformat": 4,
  "nbformat_minor": 0,
  "metadata": {
    "colab": {
      "provenance": [],
      "authorship_tag": "ABX9TyMpuYZlJPyEUGVh+tF90VPM",
      "include_colab_link": true
    },
    "kernelspec": {
      "name": "python3",
      "display_name": "Python 3"
    },
    "language_info": {
      "name": "python"
    }
  },
  "cells": [
    {
      "cell_type": "markdown",
      "metadata": {
        "id": "view-in-github",
        "colab_type": "text"
      },
      "source": [
        "<a href=\"https://colab.research.google.com/github/Fatima-Ismat/ismat-assignment-4/blob/main/Assignment%2001/02_intermediate/List%20and%20Dicts.ipynb\" target=\"_parent\"><img src=\"https://colab.research.google.com/assets/colab-badge.svg\" alt=\"Open In Colab\"/></a>"
      ]
    },
    {
      "cell_type": "code",
      "execution_count": 2,
      "metadata": {
        "id": "9VGHPYiVp4BJ",
        "colab": {
          "base_uri": "https://localhost:8080/"
        },
        "outputId": "53de28b3-1601-4228-a54f-5f1d98eafa52"
      },
      "outputs": [
        {
          "output_type": "stream",
          "name": "stdout",
          "text": [
            "Lists and Dicts\n",
            "\n",
            "Welcome to the list manipulation game!\n",
            "\n",
            "Select an operation\n",
            "1. Access Element\n",
            "2. Modify Element\n",
            "3. Slice List\n",
            "4. Quit\n",
            "Enter your choice (1-4): 1\n",
            "Enter the index of the element to access: 4\n",
            "Element at index 4: Peach\n",
            "\n",
            "Select an operation\n",
            "1. Access Element\n",
            "2. Modify Element\n",
            "3. Slice List\n",
            "4. Quit\n",
            "Enter your choice (1-4): 2\n",
            "Enter the index of the element you want to modify: 2\n",
            "Enter the new value for the element: Banana\n",
            "Element at index 2 modified from Orange to Banana\n",
            "\n",
            "Select an operation\n",
            "1. Access Element\n",
            "2. Modify Element\n",
            "3. Slice List\n",
            "4. Quit\n",
            "Enter your choice (1-4): 3\n",
            "Enter the starting index of the slice: 2\n",
            "Enter the ending index of the slice: 5\n",
            "Sliced list: ['Banana', 'Pear', 'Peach']\n",
            "\n",
            "Select an operation\n",
            "1. Access Element\n",
            "2. Modify Element\n",
            "3. Slice List\n",
            "4. Quit\n",
            "Enter your choice (1-4): 4\n",
            "Thank you for playing!\n"
          ]
        }
      ],
      "source": [
        "\n",
        "\n",
        "print(\"Lists and Dicts\")\n",
        "\n",
        "my_list = [\"Apple\", \"Mango\", \"Orange\", \"Pear\", \"Peach\"]\n",
        "\n",
        "def access_element(my_list, index):\n",
        "    \"\"\"Return the element at the specified index, or an error message if out of range.\"\"\"\n",
        "    if 0 <= index < len(my_list):\n",
        "        return f'Element at index {index}: {my_list[index]}'\n",
        "    return \"Index out of range\"\n",
        "\n",
        "def modify_element(my_list, index, new_value):\n",
        "    \"\"\"Modify the element at the specified index with the new value.\"\"\"\n",
        "    if 0 <= index < len(my_list):\n",
        "        old_value = my_list[index]\n",
        "        my_list[index] = new_value\n",
        "        return f'Element at index {index} modified from {old_value} to {new_value}'\n",
        "    return \"Index out of range\"\n",
        "\n",
        "def slice_list(my_list, start, end):\n",
        "    \"\"\"Return a slice of the list from start to end (exclusive).\"\"\"\n",
        "    if 0 <= start < len(my_list) and 0 <= end <= len(my_list):\n",
        "        return f'Sliced list: {my_list[start:end]}'\n",
        "    return \"Invalid slice indices!\"\n",
        "\n",
        "def list_game():\n",
        "    print(\"\\nWelcome to the list manipulation game!\")\n",
        "\n",
        "    my_list = [\"Apple\", \"Mango\", \"Orange\", \"Pear\", \"Peach\"]\n",
        "\n",
        "    while True:\n",
        "        print(\"\\nSelect an operation\")\n",
        "        print(\"1. Access Element\")\n",
        "        print(\"2. Modify Element\")\n",
        "        print(\"3. Slice List\")\n",
        "        print(\"4. Quit\")\n",
        "\n",
        "        choice = input(\"Enter your choice (1-4): \")\n",
        "\n",
        "        if choice == \"1\":\n",
        "            index = int(input(\"Enter the index of the element to access: \"))\n",
        "            print(access_element(my_list, index))\n",
        "        elif choice == \"2\":\n",
        "            index = int(input(\"Enter the index of the element you want to modify: \"))\n",
        "            new_value = input(\"Enter the new value for the element: \")\n",
        "            print(modify_element(my_list, index, new_value))\n",
        "        elif choice == \"3\":\n",
        "            start = int(input(\"Enter the starting index of the slice: \"))\n",
        "            end = int(input(\"Enter the ending index of the slice: \"))\n",
        "            print(slice_list(my_list, start, end))\n",
        "        elif choice == \"4\":\n",
        "            print(\"Thank you for playing!\")\n",
        "            break\n",
        "        else:\n",
        "            print(\"Invalid choice. Please enter a number between (1-4).\")\n",
        "\n",
        "if __name__ == \"__main__\":\n",
        "    list_game()\n"
      ]
    }
  ]
}
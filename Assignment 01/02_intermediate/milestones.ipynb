{
  "nbformat": 4,
  "nbformat_minor": 0,
  "metadata": {
    "colab": {
      "provenance": [],
      "authorship_tag": "ABX9TyMCw5+bR0xDz6AAApGFmuvY",
      "include_colab_link": true
    },
    "kernelspec": {
      "name": "python3",
      "display_name": "Python 3"
    },
    "language_info": {
      "name": "python"
    }
  },
  "cells": [
    {
      "cell_type": "markdown",
      "metadata": {
        "id": "view-in-github",
        "colab_type": "text"
      },
      "source": [
        "<a href=\"https://colab.research.google.com/github/Fatima-Ismat/ismat-assignment-4/blob/main/Assignment%2001/02_intermediate.ipynb\" target=\"_parent\"><img src=\"https://colab.research.google.com/assets/colab-badge.svg\" alt=\"Open In Colab\"/></a>"
      ]
    },
    {
      "cell_type": "code",
      "execution_count": null,
      "metadata": {
        "colab": {
          "base_uri": "https://localhost:8080/"
        },
        "id": "Urb_ie2lZKvm",
        "outputId": "a64e7650-9dc8-4139-c42a-b1b221cb2aa4"
      },
      "outputs": [
        {
          "output_type": "stream",
          "name": "stdout",
          "text": [
            "Control Flow for Console\n",
            "Welcome to the High-Low Game!\n",
            "--------------------------------\n",
            "Your number is 20\n",
            "The computer's number is 39\n"
          ]
        }
      ],
      "source": [
        "# 🎯\n",
        "print(\"Control Flow for Console 🎯\")\n",
        "print(\"👉 ✅ Step 1: Random numbers generate✔️\")\n",
        "print(\"1️⃣ Milestone 1: Random numbers generate karna aur print karna\")\n",
        "import random\n",
        "\n",
        "print(\"Welcome to the High-Low Game!\")\n",
        "print(\"-\" * 32)\n",
        "\n",
        "user_number = random.randint(1, 100)\n",
        "computer_number = random.randint(1, 100)\n",
        "\n",
        "print(f\"Your number is {user_number}✅ \")\n",
        "print(f\"The computer's number is {computer_number}✅ \")  # Later isko remove karenge\n"
      ]
    },
    {
      "cell_type": "code",
      "source": [
        "print(\"👉 ✅ Step 2: User's guess ✔️ \")\n",
        "print(\"1️⃣ Milestone 2:User se guess lena (higher/lower)\")\n",
        "user_guess = input(\"Do you think your number is higher or lower than the computer's? (higher/lower): \").lower()\n"
      ],
      "metadata": {
        "colab": {
          "base_uri": "https://localhost:8080/"
        },
        "id": "j_KKf7nQR7vK",
        "outputId": "53f7b144-5690-4972-8c95-c8ff428e8e42"
      },
      "execution_count": null,
      "outputs": [
        {
          "name": "stdout",
          "output_type": "stream",
          "text": [
            "👉 ✅ Step 2: User's guess ✔️ \n",
            "1️⃣ Milestone 2:User se guess lena (higher/lower)\n",
            "Do you think your number is higher or lower than the computer's? (higher/lower): lower\n"
          ]
        }
      ]
    },
    {
      "cell_type": "code",
      "source": [
        "print(\"👉 ✅ Step 3: Game logic likho ✔️\")\n",
        "print(\"3️⃣ Milestone 3: write Game logic and check karna\")\n",
        "if user_guess == \"higher\" and user_number > computer_number:\n",
        "    print(\"You were right! 🎉\")\n",
        "elif user_guess == \"lower\" and user_number < computer_number:\n",
        "    print(\"You were right✅! 🎉\")\n",
        "else:\n",
        "    print(\"Aww, that's incorrect. 😢\")\n"
      ],
      "metadata": {
        "colab": {
          "base_uri": "https://localhost:8080/"
        },
        "id": "yVzTRCrlSL2F",
        "outputId": "dc3b348f-2a52-48ac-8cb1-fbe8d3a690c3"
      },
      "execution_count": null,
      "outputs": [
        {
          "output_type": "stream",
          "name": "stdout",
          "text": [
            "👉 ✅ Step 3: Game logic likho ✔️\n",
            "3️⃣ Milestone 3: write Game logic and check karna\n",
            "You were right✅! 🎉\n"
          ]
        }
      ]
    },
    {
      "cell_type": "code",
      "source": [
        "print(\"👉 ✅ Step 4: Multiple rounds ka loop add karo ✔️\")\n",
        "print(\"4️⃣ Milestone 4: Loop add karna taake multiple rounds chalein\")\n",
        "NUM_ROUNDS = 5\n",
        "score = 0  # User ka score track karne ke liye\n",
        "\n",
        "print(\"Welcome to the High-Low Game!\")\n",
        "print(\"-\" * 32)\n",
        "\n",
        "for round in range(1, NUM_ROUNDS + 1):\n",
        "    print(f\"\\nRound {round}\")\n",
        "    user_number = random.randint(1, 100)\n",
        "    computer_number = random.randint(1, 100)\n",
        "\n",
        "    print(f\"Your number is {user_number}\")\n",
        "    user_guess = input(\"Do you think your number is higher or lower than the computer's? (higher/lower): \").lower()\n",
        "\n",
        "    if (user_guess == \"higher\" and user_number > computer_number) or (user_guess == \"lower\" and user_number < computer_number):\n",
        "        print(f\"You were right! The computer's number was {computer_number}\")\n",
        "        score += 1\n",
        "    else:\n",
        "        print(f\"Aww, that's incorrect. The computer's number was {computer_number}\")\n",
        "\n",
        "    print(f\"Your score is now {score}\")\n",
        "\n",
        "print(\"\\nThanks for playing!\")\n",
        "\n",
        "\n"
      ],
      "metadata": {
        "colab": {
          "base_uri": "https://localhost:8080/"
        },
        "id": "CF9fFvn9gfcs",
        "outputId": "f8a4ee3b-2495-4e73-f07b-85830dce40d4"
      },
      "execution_count": null,
      "outputs": [
        {
          "output_type": "stream",
          "name": "stdout",
          "text": [
            "👉 ✅ Step 4: Multiple rounds ka loop add karo ✔️\n",
            "4️⃣ Milestone 4: Loop add karna taake multiple rounds chalein\n",
            "Welcome to the High-Low Game!\n",
            "--------------------------------\n",
            "\n",
            "Round 1\n",
            "Your number is 18\n",
            "Do you think your number is higher or lower than the computer's? (higher/lower): lower\n",
            "You were right! The computer's number was 25\n",
            "Your score is now 1\n",
            "\n",
            "Round 2\n",
            "Your number is 94\n",
            "Do you think your number is higher or lower than the computer's? (higher/lower): higher\n",
            "You were right! The computer's number was 89\n",
            "Your score is now 2\n",
            "\n",
            "Round 3\n",
            "Your number is 49\n",
            "Do you think your number is higher or lower than the computer's? (higher/lower): higher\n",
            "You were right! The computer's number was 10\n",
            "Your score is now 3\n",
            "\n",
            "Round 4\n",
            "Your number is 10\n",
            "Do you think your number is higher or lower than the computer's? (higher/lower): lower\n",
            "Aww, that's incorrect. The computer's number was 6\n",
            "Your score is now 3\n",
            "\n",
            "Round 5\n",
            "Your number is 76\n",
            "Do you think your number is higher or lower than the computer's? (higher/lower): lower\n",
            "Aww, that's incorrect. The computer's number was 30\n",
            "Your score is now 3\n",
            "\n",
            "Thanks for playing!\n"
          ]
        }
      ]
    },
    {
      "cell_type": "code",
      "source": [
        "print(\"👉 ✅ Step 4: Multiple rounds ka loop add karo ✔️\")\n",
        "print(\"5️⃣ Milestone 5: Score track karna aur user feedback add karna\")\n",
        "while user_guess not in [\"higher\", \"lower\"]:\n",
        "    user_guess = input(\"Please enter either higher or lower: \").lower()\n"
      ],
      "metadata": {
        "colab": {
          "base_uri": "https://localhost:8080/"
        },
        "id": "akXbKLflgrt9",
        "outputId": "f56f7d06-8ad1-4964-f8bf-ad31e4588ff1"
      },
      "execution_count": null,
      "outputs": [
        {
          "output_type": "stream",
          "name": "stdout",
          "text": [
            "👉 ✅ Step 4: Multiple rounds ka loop add karo ✔️\n",
            "5️⃣ Milestone 5: Score track karna aur user feedback add karna\n"
          ]
        }
      ]
    },
    {
      "cell_type": "code",
      "source": [
        "print(\"👉 6️⃣ Conditional Ending Message\")\n",
        "\n",
        "print(f\"\\nYour final score is {score}\")\n",
        "\n",
        "if score == NUM_ROUNDS:\n",
        "    print(\"Wow! You played perfectly! 🌟\")\n",
        "elif score >= NUM_ROUNDS // 2:\n",
        "    print(\"Good job, you played really well! 👍\")\n",
        "else:\n",
        "    print(\"Better luck next time! 😅\")\n"
      ],
      "metadata": {
        "colab": {
          "base_uri": "https://localhost:8080/"
        },
        "id": "-HeuCJSClEKk",
        "outputId": "4ac6f95a-09bf-495f-d9c7-e3638de0fe73"
      },
      "execution_count": null,
      "outputs": [
        {
          "output_type": "stream",
          "name": "stdout",
          "text": [
            "👉 6️⃣ Conditional Ending Message\n",
            "\n",
            "Your final score is 3\n",
            "Good job, you played really well! 👍\n"
          ]
        }
      ]
    },
    {
      "cell_type": "code",
      "source": [
        "print(\"🎯 Final Code (Complete Game)\")\n",
        "import random\n",
        "\n",
        "NUM_ROUNDS = 5\n",
        "score = 0\n",
        "\n",
        "print(\"Welcome to the High-Low Game!\")\n",
        "print(\"-\" * 32)\n",
        "\n",
        "for round in range(1, NUM_ROUNDS + 1):\n",
        "    print(f\"\\nRound {round}\")\n",
        "    user_number = random.randint(1, 100)\n",
        "    computer_number = random.randint(1, 100)\n",
        "\n",
        "    print(f\"Your number is {user_number}\")\n",
        "\n",
        "    user_guess = input(\"Do you think your number is higher or lower than the computer's? (higher/lower): \").lower()\n",
        "\n",
        "    while user_guess not in [\"higher\", \"lower\"]:\n",
        "        user_guess = input(\"Please enter either higher or lower: \").lower()\n",
        "\n",
        "    if (user_guess == \"higher\" and user_number > computer_number) or (user_guess == \"lower\" and user_number < computer_number):\n",
        "        print(f\"You were right! The computer's number was {computer_number}\")\n",
        "        score += 1\n",
        "    else:\n",
        "        print(f\"Aww, that's incorrect. The computer's number was {computer_number}\")\n",
        "\n",
        "    print(f\"Your score is now {score}\")\n",
        "\n",
        "print(f\"\\nYour final score is {score}\")\n",
        "\n",
        "if score == NUM_ROUNDS:\n",
        "    print(\"Wow! You played perfectly! 🌟\")\n",
        "elif score >= NUM_ROUNDS // 2:\n",
        "    print(\"Good job, you played really well! 👍\")\n",
        "else:\n",
        "    print(\"Better luck next time! 😅\")\n"
      ],
      "metadata": {
        "colab": {
          "base_uri": "https://localhost:8080/"
        },
        "id": "5aU5P_O5l0Br",
        "outputId": "dd6f6f57-2651-44d5-b077-33e0d5fda9c8"
      },
      "execution_count": null,
      "outputs": [
        {
          "output_type": "stream",
          "name": "stdout",
          "text": [
            "🎯 Final Code (Complete Game)\n",
            "Welcome to the High-Low Game!\n",
            "--------------------------------\n",
            "\n",
            "Round 1\n",
            "Your number is 33\n",
            "Do you think your number is higher or lower than the computer's? (higher/lower): lower\n",
            "Aww, that's incorrect. The computer's number was 11\n",
            "Your score is now 0\n",
            "\n",
            "Round 2\n",
            "Your number is 98\n",
            "Do you think your number is higher or lower than the computer's? (higher/lower): higher\n",
            "You were right! The computer's number was 31\n",
            "Your score is now 1\n",
            "\n",
            "Round 3\n",
            "Your number is 60\n",
            "Do you think your number is higher or lower than the computer's? (higher/lower): higher\n",
            "You were right! The computer's number was 31\n",
            "Your score is now 2\n",
            "\n",
            "Round 4\n",
            "Your number is 30\n",
            "Do you think your number is higher or lower than the computer's? (higher/lower): lower\n",
            "You were right! The computer's number was 43\n",
            "Your score is now 3\n",
            "\n",
            "Round 5\n",
            "Your number is 73\n",
            "Do you think your number is higher or lower than the computer's? (higher/lower): higher\n",
            "You were right! The computer's number was 1\n",
            "Your score is now 4\n",
            "\n",
            "Your final score is 4\n",
            "Good job, you played really well! 👍\n"
          ]
        }
      ]
    },
    {
      "cell_type": "code",
      "source": [],
      "metadata": {
        "id": "afPe6hZBgSkq"
      },
      "execution_count": null,
      "outputs": []
    }
  ]
}

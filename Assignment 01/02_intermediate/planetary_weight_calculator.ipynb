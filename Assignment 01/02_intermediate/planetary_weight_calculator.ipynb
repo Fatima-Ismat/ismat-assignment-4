{
  "nbformat": 4,
  "nbformat_minor": 0,
  "metadata": {
    "colab": {
      "provenance": [],
      "authorship_tag": "ABX9TyP3iVvgZMuUCn2fbfXbfyoH",
      "include_colab_link": true
    },
    "kernelspec": {
      "name": "python3",
      "display_name": "Python 3"
    },
    "language_info": {
      "name": "python"
    }
  },
  "cells": [
    {
      "cell_type": "markdown",
      "metadata": {
        "id": "view-in-github",
        "colab_type": "text"
      },
      "source": [
        "<a href=\"https://colab.research.google.com/github/Fatima-Ismat/ismat-assignment-4/blob/main/Assignment%2001/02_intermediate/planetary_weight_calculator.ipynb\" target=\"_parent\"><img src=\"https://colab.research.google.com/assets/colab-badge.svg\" alt=\"Open In Colab\"/></a>"
      ]
    },
    {
      "cell_type": "code",
      "execution_count": 1,
      "metadata": {
        "id": "MlcDjDXqfwWd",
        "colab": {
          "base_uri": "https://localhost:8080/"
        },
        "outputId": "dcaf8175-73d3-4870-8c67-badda28e25b8"
      },
      "outputs": [
        {
          "output_type": "stream",
          "name": "stdout",
          "text": [
            "Planetary Weight Calculator\n",
            "Enter your weight on Earth: 23\n",
            "\n",
            " Select a planet\n",
            "-Mercury\n",
            "-Venus\n",
            "-Mars\n",
            "-Jupiter\n",
            "-Saturn\n",
            "-Uranus\n",
            "-Neptune\n",
            "Enter the name of the planet: Mars\n",
            "Your weight on Mars is: 8.74 kg\n",
            "WELCOME TO THE Planetary Weight Calculator\n",
            "*******************************************\n"
          ]
        }
      ],
      "source": [
        "print(\"Planetary Weight Calculator\")\n",
        "\n",
        "def main():\n",
        "  print(\"WELCOME TO THE Planetary Weight Calculator\")\n",
        "  print(\"*******************************************\")\n",
        "\n",
        "earth_weight = float(input(\"Enter your weight on Earth: \"))\n",
        "\n",
        "gravity_ratios = {\n",
        "    \"Mercury\": 0.38,\n",
        "    \"Venus\": 0.91,\n",
        "    \"Mars\": 0.38,\n",
        "    \"Jupiter\": 2.34,\n",
        "    \"Saturn\": 1.06,\n",
        "    \"Uranus\": 0.92,\n",
        "    \"Neptune\": 1.19\n",
        "}\n",
        "\n",
        "print(\"\\n Select a planet\")\n",
        "for planet in gravity_ratios:\n",
        "    print(f'-{planet}')\n",
        "\n",
        "selected_planet = input(\"Enter the name of the planet: \").title()\n",
        "\n",
        "if selected_planet in gravity_ratios:\n",
        "    new_weight = earth_weight * gravity_ratios [selected_planet]\n",
        "    print(f\"Your weight on {selected_planet} is: {new_weight:.2f} kg\")\n",
        "else:\n",
        "    print(\"Invalid planet name. Please choose a planet from the list.\")\n",
        "\n",
        "if __name__ == \"__main__\":\n",
        "    main()"
      ]
    }
  ]
}
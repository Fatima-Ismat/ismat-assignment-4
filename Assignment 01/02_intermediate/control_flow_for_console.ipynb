{
  "nbformat": 4,
  "nbformat_minor": 0,
  "metadata": {
    "colab": {
      "provenance": [],
      "authorship_tag": "ABX9TyMqxV98fyzo8JAvrI6gqkYq",
      "include_colab_link": true
    },
    "kernelspec": {
      "name": "python3",
      "display_name": "Python 3"
    },
    "language_info": {
      "name": "python"
    }
  },
  "cells": [
    {
      "cell_type": "markdown",
      "metadata": {
        "id": "view-in-github",
        "colab_type": "text"
      },
      "source": [
        "<a href=\"https://colab.research.google.com/github/Fatima-Ismat/ismat-assignment-4/blob/main/Assignment%2001/02_intermediate/control_flow_for_console.ipynb\" target=\"_parent\"><img src=\"https://colab.research.google.com/assets/colab-badge.svg\" alt=\"Open In Colab\"/></a>"
      ]
    },
    {
      "cell_type": "code",
      "execution_count": 1,
      "metadata": {
        "id": "_xfWdf8Hbl_C",
        "colab": {
          "base_uri": "https://localhost:8080/"
        },
        "outputId": "01d1483e-cd6c-42f6-c656-8f05c60f020e"
      },
      "outputs": [
        {
          "output_type": "stream",
          "name": "stdout",
          "text": [
            "Control Flow for Console 🎯\n",
            "👉 ✅ Step 1: Random numbers generate✔️\n",
            "1️⃣ Milestone 1: Random numbers generate karna aur print karna\n",
            "Welcome to the High-Low Game!\n",
            "--------------------------------\n",
            "Your number is 49✅ \n",
            "The computer's number is 27✅ \n"
          ]
        }
      ],
      "source": [
        "# 🎯\n",
        "print(\"Control Flow for Console 🎯\")\n",
        "print(\"👉 ✅ Step 1: Random numbers generate✔️\")\n",
        "print(\"1️⃣ Milestone 1: Random numbers generate karna aur print karna\")\n",
        "import random\n",
        "\n",
        "print(\"Welcome to the High-Low Game!\")\n",
        "print(\"-\" * 32)\n",
        "\n",
        "user_number = random.randint(1, 100)\n",
        "computer_number = random.randint(1, 100)\n",
        "\n",
        "print(f\"Your number is {user_number}✅ \")\n",
        "print(f\"The computer's number is {computer_number}✅ \")  # Later isko remove karenge"
      ]
    },
    {
      "cell_type": "code",
      "source": [
        "print(\"👉 ✅ Step 2: User's guess ✔️ \")\n",
        "print(\"1️⃣ Milestone 2:User se guess lena (higher/lower)\")\n",
        "user_guess = input(\"Do you think your number is higher or lower than the computer's? (higher/lower): \").lower()\n"
      ],
      "metadata": {
        "colab": {
          "base_uri": "https://localhost:8080/"
        },
        "id": "keIwT9w4kVJQ",
        "outputId": "d58726cc-1600-4ba9-f9ff-97f0ed38a023"
      },
      "execution_count": 2,
      "outputs": [
        {
          "name": "stdout",
          "output_type": "stream",
          "text": [
            "👉 ✅ Step 2: User's guess ✔️ \n",
            "1️⃣ Milestone 2:User se guess lena (higher/lower)\n",
            "Do you think your number is higher or lower than the computer's? (higher/lower): higher\n"
          ]
        }
      ]
    },
    {
      "cell_type": "code",
      "source": [
        "print(\"👉 ✅ Step 3: Game logic likho ✔️\")\n",
        "print(\"3️⃣ Milestone 3: write Game logic and check karna\")\n",
        "if user_guess == \"higher\" and user_number > computer_number:\n",
        "    print(\"You were right! 🎉\")\n",
        "elif user_guess == \"lower\" and user_number < computer_number:\n",
        "    print(\"You were right✅! 🎉\")\n",
        "else:\n",
        "    print(\"Aww, that's incorrect. 😢\")\n"
      ],
      "metadata": {
        "colab": {
          "base_uri": "https://localhost:8080/"
        },
        "id": "w_pmh9LHkd20",
        "outputId": "0a4c6cdf-9530-414e-b4da-0b0e7fc95a9a"
      },
      "execution_count": 3,
      "outputs": [
        {
          "output_type": "stream",
          "name": "stdout",
          "text": [
            "👉 ✅ Step 3: Game logic likho ✔️\n",
            "3️⃣ Milestone 3: write Game logic and check karna\n",
            "You were right! 🎉\n"
          ]
        }
      ]
    },
    {
      "cell_type": "code",
      "source": [
        "print(\"👉 ✅ Step 4: Multiple rounds ka loop add karo ✔️\")\n",
        "print(\"4️⃣ Milestone 4: Loop add karna taake multiple rounds chalein\")\n",
        "NUM_ROUNDS = 5\n",
        "score = 0  # User ka score track karne ke liye\n",
        "\n",
        "print(\"Welcome to the High-Low Game!\")\n",
        "print(\"-\" * 32)\n",
        "\n",
        "for round in range(1, NUM_ROUNDS + 1):\n",
        "    print(f\"\\nRound {round}\")\n",
        "    user_number = random.randint(1, 100)\n",
        "    computer_number = random.randint(1, 100)\n",
        "\n",
        "    print(f\"Your number is {user_number}\")\n",
        "    user_guess = input(\"Do you think your number is higher or lower than the computer's? (higher/lower): \").lower()\n",
        "\n",
        "    if (user_guess == \"higher\" and user_number > computer_number) or (user_guess == \"lower\" and user_number < computer_number):\n",
        "        print(f\"You were right! The computer's number was {computer_number}\")\n",
        "        score += 1\n",
        "    else:\n",
        "        print(f\"Aww, that's incorrect. The computer's number was {computer_number}\")\n",
        "\n",
        "    print(f\"Your score is now {score}\")\n",
        "\n",
        "print(\"\\nThanks for playing!\")\n"
      ],
      "metadata": {
        "colab": {
          "base_uri": "https://localhost:8080/"
        },
        "id": "_-GhusC7klQ6",
        "outputId": "452e347d-e7b7-49b7-e4b2-f28fdd1c5f04"
      },
      "execution_count": 4,
      "outputs": [
        {
          "output_type": "stream",
          "name": "stdout",
          "text": [
            "👉 ✅ Step 4: Multiple rounds ka loop add karo ✔️\n",
            "4️⃣ Milestone 4: Loop add karna taake multiple rounds chalein\n",
            "Welcome to the High-Low Game!\n",
            "--------------------------------\n",
            "\n",
            "Round 1\n",
            "Your number is 14\n",
            "Do you think your number is higher or lower than the computer's? (higher/lower): lower\n",
            "Aww, that's incorrect. The computer's number was 5\n",
            "Your score is now 0\n",
            "\n",
            "Round 2\n",
            "Your number is 83\n",
            "Do you think your number is higher or lower than the computer's? (higher/lower): higher\n",
            "You were right! The computer's number was 45\n",
            "Your score is now 1\n",
            "\n",
            "Round 3\n",
            "Your number is 40\n",
            "Do you think your number is higher or lower than the computer's? (higher/lower): lower\n",
            "Aww, that's incorrect. The computer's number was 28\n",
            "Your score is now 1\n",
            "\n",
            "Round 4\n",
            "Your number is 55\n",
            "Do you think your number is higher or lower than the computer's? (higher/lower): lower\n",
            "You were right! The computer's number was 84\n",
            "Your score is now 2\n",
            "\n",
            "Round 5\n",
            "Your number is 80\n",
            "Do you think your number is higher or lower than the computer's? (higher/lower): lower\n",
            "Aww, that's incorrect. The computer's number was 24\n",
            "Your score is now 2\n",
            "\n",
            "Thanks for playing!\n"
          ]
        }
      ]
    },
    {
      "cell_type": "code",
      "source": [
        "print(\"👉 ✅ Step 4: Multiple rounds ka loop add karo ✔️\")\n",
        "print(\"5️⃣ Milestone 5: Score track karna aur user feedback add karna\")\n",
        "while user_guess not in [\"higher\", \"lower\"]:\n",
        "    user_guess = input(\"Please enter either higher or lower: \").lower()"
      ],
      "metadata": {
        "colab": {
          "base_uri": "https://localhost:8080/"
        },
        "id": "SlnQHHGblB-l",
        "outputId": "32065236-c1b4-4717-e773-38b1acd9e7f0"
      },
      "execution_count": 5,
      "outputs": [
        {
          "output_type": "stream",
          "name": "stdout",
          "text": [
            "👉 ✅ Step 4: Multiple rounds ka loop add karo ✔️\n",
            "5️⃣ Milestone 5: Score track karna aur user feedback add karna\n"
          ]
        }
      ]
    },
    {
      "cell_type": "code",
      "source": [
        "print(\"👉 6️⃣ Conditional Ending Message\")\n",
        "\n",
        "print(f\"\\nYour final score is {score}\")\n",
        "\n",
        "if score == NUM_ROUNDS:\n",
        "    print(\"Wow! You played perfectly! 🌟\")\n",
        "elif score >= NUM_ROUNDS // 2:\n",
        "    print(\"Good job, you played really well! 👍\")\n",
        "else:\n",
        "    print(\"Better luck next time! 😅\")\n",
        "\n",
        "\n",
        "\n"
      ],
      "metadata": {
        "colab": {
          "base_uri": "https://localhost:8080/"
        },
        "id": "FBFRH2_clKQe",
        "outputId": "7fbf7d43-0072-4cec-8da3-6537c283a855"
      },
      "execution_count": 7,
      "outputs": [
        {
          "output_type": "stream",
          "name": "stdout",
          "text": [
            "👉 6️⃣ Conditional Ending Message\n",
            "\n",
            "Your final score is 2\n",
            "Good job, you played really well! 👍\n"
          ]
        }
      ]
    },
    {
      "cell_type": "code",
      "source": [
        "print(\"🎯 Final Code (Complete Game)\")\n",
        "import random\n",
        "\n",
        "NUM_ROUNDS = 5\n",
        "score = 0\n",
        "\n",
        "print(\"Welcome to the High-Low Game!\")\n",
        "print(\"-\" * 32)\n",
        "\n",
        "for round in range(1, NUM_ROUNDS + 1):\n",
        "    print(f\"\\nRound {round}\")\n",
        "    user_number = random.randint(1, 100)\n",
        "    computer_number = random.randint(1, 100)\n",
        "\n",
        "    print(f\"Your number is {user_number}\")\n",
        "\n",
        "    user_guess = input(\"Do you think your number is higher or lower than the computer's? (higher/lower): \").lower()\n",
        "\n",
        "    while user_guess not in [\"higher\", \"lower\"]:\n",
        "        user_guess = input(\"Please enter either higher or lower: \").lower()\n",
        "\n",
        "    if (user_guess == \"higher\" and user_number > computer_number) or (user_guess == \"lower\" and user_number < computer_number):\n",
        "        print(f\"You were right! The computer's number was {computer_number}\")\n",
        "        score += 1\n",
        "    else:\n",
        "        print(f\"Aww, that's incorrect. The computer's number was {computer_number}\")\n",
        "\n",
        "    print(f\"Your score is now {score}\")\n",
        "\n",
        "print(f\"\\nYour final score is {score}\")\n",
        "\n",
        "if score == NUM_ROUNDS:\n",
        "    print(\"Wow! You played perfectly! 🌟\")\n",
        "elif score >= NUM_ROUNDS // 2:\n",
        "    print(\"Good job, you played really well! 👍\")\n",
        "else:\n",
        "    print(\"Better luck next time! 😅\")\n"
      ],
      "metadata": {
        "colab": {
          "base_uri": "https://localhost:8080/"
        },
        "id": "j711SaWulYf5",
        "outputId": "825ad871-e5c0-4ee5-c4b1-3f8d457eb042"
      },
      "execution_count": 8,
      "outputs": [
        {
          "output_type": "stream",
          "name": "stdout",
          "text": [
            "🎯 Final Code (Complete Game)\n",
            "Welcome to the High-Low Game!\n",
            "--------------------------------\n",
            "\n",
            "Round 1\n",
            "Your number is 86\n",
            "Do you think your number is higher or lower than the computer's? (higher/lower): lower\n",
            "Aww, that's incorrect. The computer's number was 6\n",
            "Your score is now 0\n",
            "\n",
            "Round 2\n",
            "Your number is 69\n",
            "Do you think your number is higher or lower than the computer's? (higher/lower): higher\n",
            "You were right! The computer's number was 68\n",
            "Your score is now 1\n",
            "\n",
            "Round 3\n",
            "Your number is 53\n",
            "Do you think your number is higher or lower than the computer's? (higher/lower): higher\n",
            "Aww, that's incorrect. The computer's number was 78\n",
            "Your score is now 1\n",
            "\n",
            "Round 4\n",
            "Your number is 2\n",
            "Do you think your number is higher or lower than the computer's? (higher/lower): lower\n",
            "You were right! The computer's number was 33\n",
            "Your score is now 2\n",
            "\n",
            "Round 5\n",
            "Your number is 11\n",
            "Do you think your number is higher or lower than the computer's? (higher/lower): higher\n",
            "Aww, that's incorrect. The computer's number was 87\n",
            "Your score is now 2\n",
            "\n",
            "Your final score is 2\n",
            "Good job, you played really well! 👍\n"
          ]
        }
      ]
    }
  ]
}
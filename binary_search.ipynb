{
  "nbformat": 4,
  "nbformat_minor": 0,
  "metadata": {
    "colab": {
      "provenance": [],
      "authorship_tag": "ABX9TyMRVENhngZFYGg872x0C5GK",
      "include_colab_link": true
    },
    "kernelspec": {
      "name": "python3",
      "display_name": "Python 3"
    },
    "language_info": {
      "name": "python"
    }
  },
  "cells": [
    {
      "cell_type": "markdown",
      "metadata": {
        "id": "view-in-github",
        "colab_type": "text"
      },
      "source": [
        "<a href=\"https://colab.research.google.com/github/Fatima-Ismat/ismat-assignment-4/blob/main/binary_search.ipynb\" target=\"_parent\"><img src=\"https://colab.research.google.com/assets/colab-badge.svg\" alt=\"Open In Colab\"/></a>"
      ]
    },
    {
      "cell_type": "code",
      "execution_count": 1,
      "metadata": {
        "colab": {
          "base_uri": "https://localhost:8080/"
        },
        "id": "OJLafHjaGepT",
        "outputId": "2018115f-d879-4b8f-b7f6-b4edd7c27a6f"
      },
      "outputs": [
        {
          "output_type": "stream",
          "name": "stdout",
          "text": [
            "The 4 is not found\n"
          ]
        }
      ],
      "source": [
        "\n",
        "def binary_search(a_list,item):\n",
        "    #a_list is a sorted array/list\n",
        "    #item number that is supposed to be searched\n",
        "\n",
        "    first = 0\n",
        "    last = len(a_list) - 1\n",
        "    while first<=last:\n",
        "        mid = int((first+last)/2)\n",
        "        if a_list[mid] == item:\n",
        "            print(f\"The {item} is found at {mid}\")\n",
        "            break\n",
        "        elif a_list[mid]>item:\n",
        "            last = mid -1\n",
        "        elif a_list[mid]<item:\n",
        "            first = mid + 1\n",
        "    else :\n",
        "        print(f\"The {item} is not found\")\n",
        "\n",
        "\n",
        "\n",
        "if __name__ == \"__main__\":\n",
        "    binary_search([2,3,7,9,50,57,79,550],4)"
      ]
    }
  ]
}
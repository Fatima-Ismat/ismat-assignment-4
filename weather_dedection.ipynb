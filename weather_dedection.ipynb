{
  "nbformat": 4,
  "nbformat_minor": 0,
  "metadata": {
    "colab": {
      "provenance": [],
      "authorship_tag": "ABX9TyOa5nNnRH4fB8E6GQg2B8FE",
      "include_colab_link": true
    },
    "kernelspec": {
      "name": "python3",
      "display_name": "Python 3"
    },
    "language_info": {
      "name": "python"
    }
  },
  "cells": [
    {
      "cell_type": "markdown",
      "metadata": {
        "id": "view-in-github",
        "colab_type": "text"
      },
      "source": [
        "<a href=\"https://colab.research.google.com/github/Fatima-Ismat/ismat-assignment-4/blob/main/weather_dedection.ipynb\" target=\"_parent\"><img src=\"https://colab.research.google.com/assets/colab-badge.svg\" alt=\"Open In Colab\"/></a>"
      ]
    },
    {
      "cell_type": "code",
      "execution_count": null,
      "metadata": {
        "id": "G-5IH4QpNTsX"
      },
      "outputs": [],
      "source": [
        "# - building a weather application in Python using the OpenWeatherMap API\n",
        "import requests\n",
        "import json\n",
        "\n",
        "def get_weather(city):\n",
        "\n",
        "    api_key= '4644a7f2ffb88a4820b1030e0a112417'\n",
        "    base_url= 'http://api.openweathermap.org/data/2.5/weather'\n",
        "\n",
        "    params = {\n",
        "        'q' : city,\n",
        "        'appid' : api_key,\n",
        "        'units' : 'metric'\n",
        "    }\n",
        "\n",
        "    response = requests.get(base_url,params=params)\n",
        "    weather_data = response.json()\n",
        "\n",
        "    if weather_data['cod'] == '404':\n",
        "        print('City not Found, Please Check the Spelling.')\n",
        "\n",
        "    temp = weather_data['main']['temp']\n",
        "    humidity = weather_data['main']['humidity']\n",
        "    description = weather_data['weather'][0]['description']\n",
        "\n",
        "\n",
        "    print(f'Weather in {city}: ')\n",
        "    print(f'Temperature : {temp} °C')\n",
        "    print(f'Humidity : {humidity}%')\n",
        "    print(f'Description : {description}')\n",
        "\n",
        "city = 'Karachi'\n",
        "get_weather(city)"
      ]
    }
  ]
}